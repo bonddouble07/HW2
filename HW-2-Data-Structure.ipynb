{
 "cells": [
  {
   "cell_type": "code",
   "execution_count": 103,
   "id": "cc9f3f46-1efb-4c03-b061-925baa58c40e",
   "metadata": {},
   "outputs": [],
   "source": [
    "# Initialize constants\n",
    "import os\n",
    "import pandas as pd\n",
    "import numpy as np\n",
    "clinical = pd.read_csv('clinical.csv')\n",
    "somatic = pd.read_csv('somatic.csv')"
   ]
  },
  {
   "cell_type": "code",
   "execution_count": 104,
   "id": "88c98025-e340-4c5b-aed6-fdbdfcb16354",
   "metadata": {},
   "outputs": [
    {
     "name": "stdout",
     "output_type": "stream",
     "text": [
      "clinical.csv:\n",
      "\n",
      "columns = 7 \n",
      "\n",
      "rows = 5\n"
     ]
    }
   ],
   "source": [
    "# 1. Number of rows and columns for CLINICAL dataset\n",
    "print(\"clinical.csv:\\n\")\n",
    "\n",
    "col = clinical.shape[1]\n",
    "print(\"columns =\", col, \"\\n\")\n",
    "\n",
    "row = clinical.shape[0]\n",
    "print(\"rows =\", row)      "
   ]
  },
  {
   "cell_type": "code",
   "execution_count": 105,
   "id": "f83c2927-03a0-4649-87ef-4186f8b01a9a",
   "metadata": {},
   "outputs": [
    {
     "name": "stdout",
     "output_type": "stream",
     "text": [
      "0    P2938\n",
      "1    P2829\n",
      "2    P2885\n",
      "3    P2731\n",
      "4    P2740\n",
      "Name: patient, dtype: object \n",
      "\n",
      "patients = 5 \n",
      "\n",
      "Unqiue patients = 5\n"
     ]
    }
   ],
   "source": [
    "# 2. Number of patients.\n",
    "patients = clinical.patient\n",
    "print(patients, \"\\n\")\n",
    "print(\"patients =\", len(clinical.patient), \"\\n\")\n",
    "\n",
    "print(\"Unqiue patients =\", clinical['patient'].nunique())"
   ]
  },
  {
   "cell_type": "code",
   "execution_count": 106,
   "id": "be6a5c54-2b20-4b60-8665-bc6424cf368e",
   "metadata": {},
   "outputs": [
    {
     "data": {
      "text/html": [
       "<div>\n",
       "<style scoped>\n",
       "    .dataframe tbody tr th:only-of-type {\n",
       "        vertical-align: middle;\n",
       "    }\n",
       "\n",
       "    .dataframe tbody tr th {\n",
       "        vertical-align: top;\n",
       "    }\n",
       "\n",
       "    .dataframe thead th {\n",
       "        text-align: right;\n",
       "    }\n",
       "</style>\n",
       "<table border=\"1\" class=\"dataframe\">\n",
       "  <thead>\n",
       "    <tr style=\"text-align: right;\">\n",
       "      <th></th>\n",
       "      <th>race</th>\n",
       "    </tr>\n",
       "  </thead>\n",
       "  <tbody>\n",
       "    <tr>\n",
       "      <th>0</th>\n",
       "      <td>white</td>\n",
       "    </tr>\n",
       "    <tr>\n",
       "      <th>1</th>\n",
       "      <td>white</td>\n",
       "    </tr>\n",
       "    <tr>\n",
       "      <th>2</th>\n",
       "      <td>black or african american</td>\n",
       "    </tr>\n",
       "    <tr>\n",
       "      <th>3</th>\n",
       "      <td>black or african american</td>\n",
       "    </tr>\n",
       "    <tr>\n",
       "      <th>4</th>\n",
       "      <td>white</td>\n",
       "    </tr>\n",
       "  </tbody>\n",
       "</table>\n",
       "</div>"
      ],
      "text/plain": [
       "                        race\n",
       "0                      white\n",
       "1                      white\n",
       "2  black or african american\n",
       "3  black or african american\n",
       "4                      white"
      ]
     },
     "execution_count": 106,
     "metadata": {},
     "output_type": "execute_result"
    }
   ],
   "source": [
    "# 3. Unique races and number of patients of a race\n",
    "clinical.loc[:, [\"race\"]] # : iterates through all rows, \"race\" pulls only race column"
   ]
  },
  {
   "cell_type": "code",
   "execution_count": 107,
   "id": "be56c91a-1244-49af-bef7-7a2943301ef5",
   "metadata": {},
   "outputs": [
    {
     "name": "stdout",
     "output_type": "stream",
     "text": [
      "race\n",
      "black or african american    2\n",
      "white                        3\n",
      "dtype: int64\n"
     ]
    }
   ],
   "source": [
    "# sort by race, shows number of patients per race\n",
    "race = clinical.groupby(\"race\").size()\n",
    "\n",
    "print(race)"
   ]
  },
  {
   "cell_type": "code",
   "execution_count": 108,
   "id": "7c8a3e66-31d1-428a-97ce-c4fa4696f567",
   "metadata": {},
   "outputs": [
    {
     "name": "stdout",
     "output_type": "stream",
     "text": [
      "Unique 'races':\n"
     ]
    },
    {
     "data": {
      "text/plain": [
       "2"
      ]
     },
     "execution_count": 108,
     "metadata": {},
     "output_type": "execute_result"
    }
   ],
   "source": [
    "print(\"Unique 'races':\")\n",
    "clinical['race'].nunique()"
   ]
  },
  {
   "cell_type": "code",
   "execution_count": 109,
   "id": "bca74668-7044-4425-9e80-b66c0a4bd4e3",
   "metadata": {},
   "outputs": [
    {
     "data": {
      "text/html": [
       "<div>\n",
       "<style scoped>\n",
       "    .dataframe tbody tr th:only-of-type {\n",
       "        vertical-align: middle;\n",
       "    }\n",
       "\n",
       "    .dataframe tbody tr th {\n",
       "        vertical-align: top;\n",
       "    }\n",
       "\n",
       "    .dataframe thead th {\n",
       "        text-align: right;\n",
       "    }\n",
       "</style>\n",
       "<table border=\"1\" class=\"dataframe\">\n",
       "  <thead>\n",
       "    <tr style=\"text-align: right;\">\n",
       "      <th></th>\n",
       "      <th>diagnosis</th>\n",
       "    </tr>\n",
       "  </thead>\n",
       "  <tbody>\n",
       "    <tr>\n",
       "      <th>0</th>\n",
       "      <td>Breast Invasive Carcinoma</td>\n",
       "    </tr>\n",
       "    <tr>\n",
       "      <th>1</th>\n",
       "      <td>Breast Invasive Carcinoma</td>\n",
       "    </tr>\n",
       "    <tr>\n",
       "      <th>2</th>\n",
       "      <td>Breast Invasive Carcinoma</td>\n",
       "    </tr>\n",
       "    <tr>\n",
       "      <th>3</th>\n",
       "      <td>Normal</td>\n",
       "    </tr>\n",
       "    <tr>\n",
       "      <th>4</th>\n",
       "      <td>Normal</td>\n",
       "    </tr>\n",
       "  </tbody>\n",
       "</table>\n",
       "</div>"
      ],
      "text/plain": [
       "                   diagnosis\n",
       "0  Breast Invasive Carcinoma\n",
       "1  Breast Invasive Carcinoma\n",
       "2  Breast Invasive Carcinoma\n",
       "3                     Normal\n",
       "4                     Normal"
      ]
     },
     "execution_count": 109,
     "metadata": {},
     "output_type": "execute_result"
    }
   ],
   "source": [
    "# 4. Unique diagnosis and number of patients with a specific diagnosis\n",
    "clinical.loc[:, ['diagnosis']]"
   ]
  },
  {
   "cell_type": "code",
   "execution_count": 110,
   "id": "9abedbc6-92c0-4c1a-8c20-f9c714d1a8fc",
   "metadata": {},
   "outputs": [
    {
     "name": "stdout",
     "output_type": "stream",
     "text": [
      "diagnosis\n",
      "Breast Invasive Carcinoma    3\n",
      "Normal                       2\n",
      "dtype: int64\n"
     ]
    }
   ],
   "source": [
    "# sort by diagnosis, shows number of patients per diagnosis\n",
    "dx = clinical.groupby('diagnosis').size()\n",
    "\n",
    "print(dx)"
   ]
  },
  {
   "cell_type": "code",
   "execution_count": 111,
   "id": "74fc9238-737d-4d4c-8f95-dae8f9ab1c31",
   "metadata": {},
   "outputs": [
    {
     "name": "stdout",
     "output_type": "stream",
     "text": [
      "Unique 'diagnoses':\n"
     ]
    },
    {
     "data": {
      "text/plain": [
       "2"
      ]
     },
     "execution_count": 111,
     "metadata": {},
     "output_type": "execute_result"
    }
   ],
   "source": [
    "# shows unique diagnoses by getting the shape of the above groupby list\n",
    "print(\"Unique 'diagnoses':\")\n",
    "\n",
    "dx.shape[0]"
   ]
  },
  {
   "cell_type": "code",
   "execution_count": 112,
   "id": "bb443a7b-77b9-4efa-a4ff-0c05032f6fa1",
   "metadata": {},
   "outputs": [
    {
     "name": "stdout",
     "output_type": "stream",
     "text": [
      "All patients in clinical.csv:\n"
     ]
    },
    {
     "data": {
      "text/plain": [
       "0    P2938\n",
       "1    P2829\n",
       "2    P2885\n",
       "3    P2731\n",
       "4    P2740\n",
       "Name: patient, dtype: object"
      ]
     },
     "execution_count": 112,
     "metadata": {},
     "output_type": "execute_result"
    }
   ],
   "source": [
    "# list all patients by calling column \"patient\"\n",
    "print(\"All patients in clinical.csv:\")\n",
    "\n",
    "clinical.patient"
   ]
  },
  {
   "cell_type": "code",
   "execution_count": 113,
   "id": "41ae4faa-c4f6-4180-bf76-a22d188131a8",
   "metadata": {
    "scrolled": true
   },
   "outputs": [
    {
     "data": {
      "text/html": [
       "<div>\n",
       "<style scoped>\n",
       "    .dataframe tbody tr th:only-of-type {\n",
       "        vertical-align: middle;\n",
       "    }\n",
       "\n",
       "    .dataframe tbody tr th {\n",
       "        vertical-align: top;\n",
       "    }\n",
       "\n",
       "    .dataframe thead th {\n",
       "        text-align: right;\n",
       "    }\n",
       "</style>\n",
       "<table border=\"1\" class=\"dataframe\">\n",
       "  <thead>\n",
       "    <tr style=\"text-align: right;\">\n",
       "      <th></th>\n",
       "      <th>patient</th>\n",
       "      <th>year_of_birth</th>\n",
       "      <th>age_at_diagnosis</th>\n",
       "      <th>race</th>\n",
       "      <th>tumor_stage</th>\n",
       "      <th>diagnosis</th>\n",
       "      <th>subtype</th>\n",
       "      <th>age</th>\n",
       "    </tr>\n",
       "  </thead>\n",
       "  <tbody>\n",
       "    <tr>\n",
       "      <th>0</th>\n",
       "      <td>P2938</td>\n",
       "      <td>1959</td>\n",
       "      <td>20880</td>\n",
       "      <td>white</td>\n",
       "      <td>stage iii</td>\n",
       "      <td>Breast Invasive Carcinoma</td>\n",
       "      <td>LumA</td>\n",
       "      <td>30</td>\n",
       "    </tr>\n",
       "    <tr>\n",
       "      <th>1</th>\n",
       "      <td>P2829</td>\n",
       "      <td>1953</td>\n",
       "      <td>22693</td>\n",
       "      <td>white</td>\n",
       "      <td>stage iib</td>\n",
       "      <td>Breast Invasive Carcinoma</td>\n",
       "      <td>LumA</td>\n",
       "      <td>49</td>\n",
       "    </tr>\n",
       "    <tr>\n",
       "      <th>2</th>\n",
       "      <td>P2885</td>\n",
       "      <td>1967</td>\n",
       "      <td>18689</td>\n",
       "      <td>black or african american</td>\n",
       "      <td>stage i</td>\n",
       "      <td>Breast Invasive Carcinoma</td>\n",
       "      <td>Basal</td>\n",
       "      <td>78</td>\n",
       "    </tr>\n",
       "    <tr>\n",
       "      <th>3</th>\n",
       "      <td>P2731</td>\n",
       "      <td>1960</td>\n",
       "      <td>17275</td>\n",
       "      <td>black or african american</td>\n",
       "      <td>NaN</td>\n",
       "      <td>Normal</td>\n",
       "      <td>NaN</td>\n",
       "      <td>66</td>\n",
       "    </tr>\n",
       "    <tr>\n",
       "      <th>4</th>\n",
       "      <td>P2740</td>\n",
       "      <td>1972</td>\n",
       "      <td>16282</td>\n",
       "      <td>white</td>\n",
       "      <td>NaN</td>\n",
       "      <td>Normal</td>\n",
       "      <td>NaN</td>\n",
       "      <td>18</td>\n",
       "    </tr>\n",
       "  </tbody>\n",
       "</table>\n",
       "</div>"
      ],
      "text/plain": [
       "  patient  year_of_birth  age_at_diagnosis                       race  \\\n",
       "0   P2938           1959             20880                      white   \n",
       "1   P2829           1953             22693                      white   \n",
       "2   P2885           1967             18689  black or african american   \n",
       "3   P2731           1960             17275  black or african american   \n",
       "4   P2740           1972             16282                      white   \n",
       "\n",
       "  tumor_stage                  diagnosis subtype  age  \n",
       "0   stage iii  Breast Invasive Carcinoma    LumA   30  \n",
       "1   stage iib  Breast Invasive Carcinoma    LumA   49  \n",
       "2     stage i  Breast Invasive Carcinoma   Basal   78  \n",
       "3         NaN                     Normal     NaN   66  \n",
       "4         NaN                     Normal     NaN   18  "
      ]
     },
     "execution_count": 113,
     "metadata": {},
     "output_type": "execute_result"
    }
   ],
   "source": [
    "# 5. Add an “age” column\n",
    "age = [30, 49, 78, 66, 18] # arbitrary values for age\n",
    "clinical['age'] = age # add column to clinical.csv from list\n",
    "\n",
    "clinical"
   ]
  },
  {
   "cell_type": "code",
   "execution_count": 114,
   "id": "88e7ac1e-3ee5-4ebc-ad04-dbec29612211",
   "metadata": {},
   "outputs": [
    {
     "name": "stdout",
     "output_type": "stream",
     "text": [
      "\n",
      "New clinical.csv with updated age_at_diagnosis values:\n"
     ]
    },
    {
     "data": {
      "text/html": [
       "<div>\n",
       "<style scoped>\n",
       "    .dataframe tbody tr th:only-of-type {\n",
       "        vertical-align: middle;\n",
       "    }\n",
       "\n",
       "    .dataframe tbody tr th {\n",
       "        vertical-align: top;\n",
       "    }\n",
       "\n",
       "    .dataframe thead th {\n",
       "        text-align: right;\n",
       "    }\n",
       "</style>\n",
       "<table border=\"1\" class=\"dataframe\">\n",
       "  <thead>\n",
       "    <tr style=\"text-align: right;\">\n",
       "      <th></th>\n",
       "      <th>patient</th>\n",
       "      <th>year_of_birth</th>\n",
       "      <th>age_at_diagnosis</th>\n",
       "      <th>race</th>\n",
       "      <th>tumor_stage</th>\n",
       "      <th>diagnosis</th>\n",
       "      <th>subtype</th>\n",
       "      <th>age</th>\n",
       "    </tr>\n",
       "  </thead>\n",
       "  <tbody>\n",
       "    <tr>\n",
       "      <th>0</th>\n",
       "      <td>P2938</td>\n",
       "      <td>1959</td>\n",
       "      <td>57.166324</td>\n",
       "      <td>white</td>\n",
       "      <td>stage iii</td>\n",
       "      <td>Breast Invasive Carcinoma</td>\n",
       "      <td>LumA</td>\n",
       "      <td>30</td>\n",
       "    </tr>\n",
       "    <tr>\n",
       "      <th>1</th>\n",
       "      <td>P2829</td>\n",
       "      <td>1953</td>\n",
       "      <td>62.130048</td>\n",
       "      <td>white</td>\n",
       "      <td>stage iib</td>\n",
       "      <td>Breast Invasive Carcinoma</td>\n",
       "      <td>LumA</td>\n",
       "      <td>49</td>\n",
       "    </tr>\n",
       "    <tr>\n",
       "      <th>2</th>\n",
       "      <td>P2885</td>\n",
       "      <td>1967</td>\n",
       "      <td>51.167693</td>\n",
       "      <td>black or african american</td>\n",
       "      <td>stage i</td>\n",
       "      <td>Breast Invasive Carcinoma</td>\n",
       "      <td>Basal</td>\n",
       "      <td>78</td>\n",
       "    </tr>\n",
       "    <tr>\n",
       "      <th>3</th>\n",
       "      <td>P2731</td>\n",
       "      <td>1960</td>\n",
       "      <td>47.296372</td>\n",
       "      <td>black or african american</td>\n",
       "      <td>NaN</td>\n",
       "      <td>Normal</td>\n",
       "      <td>NaN</td>\n",
       "      <td>66</td>\n",
       "    </tr>\n",
       "    <tr>\n",
       "      <th>4</th>\n",
       "      <td>P2740</td>\n",
       "      <td>1972</td>\n",
       "      <td>44.577687</td>\n",
       "      <td>white</td>\n",
       "      <td>NaN</td>\n",
       "      <td>Normal</td>\n",
       "      <td>NaN</td>\n",
       "      <td>18</td>\n",
       "    </tr>\n",
       "  </tbody>\n",
       "</table>\n",
       "</div>"
      ],
      "text/plain": [
       "  patient  year_of_birth  age_at_diagnosis                       race  \\\n",
       "0   P2938           1959         57.166324                      white   \n",
       "1   P2829           1953         62.130048                      white   \n",
       "2   P2885           1967         51.167693  black or african american   \n",
       "3   P2731           1960         47.296372  black or african american   \n",
       "4   P2740           1972         44.577687                      white   \n",
       "\n",
       "  tumor_stage                  diagnosis subtype  age  \n",
       "0   stage iii  Breast Invasive Carcinoma    LumA   30  \n",
       "1   stage iib  Breast Invasive Carcinoma    LumA   49  \n",
       "2     stage i  Breast Invasive Carcinoma   Basal   78  \n",
       "3         NaN                     Normal     NaN   66  \n",
       "4         NaN                     Normal     NaN   18  "
      ]
     },
     "execution_count": 114,
     "metadata": {},
     "output_type": "execute_result"
    }
   ],
   "source": [
    "# 6. Convert “age_at_diagnosis” from days to years and update the values of this column\n",
    "\n",
    "clinical[\"age_at_diagnosis\"] = (clinical[\"age_at_diagnosis\"] / 365.25) \n",
    "# code after the '=' divides each value in column 'age_at_diagnosis' by 365.25 (0.25 accounts for leap year)\n",
    "# code before the '=' updates the column with the new calculated values\n",
    "print(\"\\nNew clinical.csv with updated age_at_diagnosis values:\")\n",
    "clinical"
   ]
  },
  {
   "cell_type": "code",
   "execution_count": 115,
   "id": "5c43766e-04a9-4f40-aac2-57ef9ee80aaa",
   "metadata": {},
   "outputs": [
    {
     "data": {
      "text/html": [
       "<div>\n",
       "<style scoped>\n",
       "    .dataframe tbody tr th:only-of-type {\n",
       "        vertical-align: middle;\n",
       "    }\n",
       "\n",
       "    .dataframe tbody tr th {\n",
       "        vertical-align: top;\n",
       "    }\n",
       "\n",
       "    .dataframe thead th {\n",
       "        text-align: right;\n",
       "    }\n",
       "</style>\n",
       "<table border=\"1\" class=\"dataframe\">\n",
       "  <thead>\n",
       "    <tr style=\"text-align: right;\">\n",
       "      <th></th>\n",
       "      <th>age_at_diagnosis</th>\n",
       "      <th>diagnosis</th>\n",
       "    </tr>\n",
       "  </thead>\n",
       "  <tbody>\n",
       "    <tr>\n",
       "      <th>0</th>\n",
       "      <td>57.166324</td>\n",
       "      <td>Breast Invasive Carcinoma</td>\n",
       "    </tr>\n",
       "    <tr>\n",
       "      <th>1</th>\n",
       "      <td>62.130048</td>\n",
       "      <td>Breast Invasive Carcinoma</td>\n",
       "    </tr>\n",
       "    <tr>\n",
       "      <th>2</th>\n",
       "      <td>51.167693</td>\n",
       "      <td>Breast Invasive Carcinoma</td>\n",
       "    </tr>\n",
       "    <tr>\n",
       "      <th>3</th>\n",
       "      <td>47.296372</td>\n",
       "      <td>Normal</td>\n",
       "    </tr>\n",
       "    <tr>\n",
       "      <th>4</th>\n",
       "      <td>44.577687</td>\n",
       "      <td>Normal</td>\n",
       "    </tr>\n",
       "  </tbody>\n",
       "</table>\n",
       "</div>"
      ],
      "text/plain": [
       "   age_at_diagnosis                  diagnosis\n",
       "0         57.166324  Breast Invasive Carcinoma\n",
       "1         62.130048  Breast Invasive Carcinoma\n",
       "2         51.167693  Breast Invasive Carcinoma\n",
       "3         47.296372                     Normal\n",
       "4         44.577687                     Normal"
      ]
     },
     "execution_count": 115,
     "metadata": {},
     "output_type": "execute_result"
    }
   ],
   "source": [
    "# 7. Average age_at_diagnosis of patients with cancers\n",
    "\n",
    "# First, isolate the two columns of reference\n",
    "clinical.loc[0:, ['age_at_diagnosis', 'diagnosis']] # Beginning at row index [0], onwards"
   ]
  },
  {
   "cell_type": "code",
   "execution_count": 116,
   "id": "c9f06a3f-8b14-4012-98af-1681dccb36a7",
   "metadata": {},
   "outputs": [
    {
     "name": "stdout",
     "output_type": "stream",
     "text": [
      "\n",
      "Average age at diagnosis for patients with Breast Invasive Carcinoma:\n"
     ]
    },
    {
     "data": {
      "text/plain": [
       "0    57.166324\n",
       "1    62.130048\n",
       "2    51.167693\n",
       "Name: age_at_diagnosis, dtype: float64"
      ]
     },
     "execution_count": 116,
     "metadata": {},
     "output_type": "execute_result"
    }
   ],
   "source": [
    "cancer = 'Breast Invasive Carcinoma' # Initialize variable for our (only) cancer diagnosis\n",
    "\n",
    "# Initialize a new variable, average_age_cancer\n",
    "# For each patient with the \"cancer\" diagnosis established above, save their age\n",
    "average_age_cancer = clinical.loc[clinical['diagnosis'] == cancer, 'age_at_diagnosis'] \n",
    "\n",
    "print(\"\\nAverage age at diagnosis for patients with Breast Invasive Carcinoma:\")\n",
    "average_age_cancer"
   ]
  },
  {
   "cell_type": "code",
   "execution_count": 117,
   "id": "ba90eab1-0037-4a72-a83d-970b57ce9591",
   "metadata": {},
   "outputs": [
    {
     "data": {
      "text/plain": [
       "56.82135523613963"
      ]
     },
     "execution_count": 117,
     "metadata": {},
     "output_type": "execute_result"
    }
   ],
   "source": [
    "avg1 = sum(average_age_cancer) / len(average_age_cancer)\n",
    "avg1"
   ]
  },
  {
   "cell_type": "code",
   "execution_count": 118,
   "id": "ee33bf50-836a-407a-875c-26f24d57a39a",
   "metadata": {},
   "outputs": [
    {
     "data": {
      "text/html": [
       "<div>\n",
       "<style scoped>\n",
       "    .dataframe tbody tr th:only-of-type {\n",
       "        vertical-align: middle;\n",
       "    }\n",
       "\n",
       "    .dataframe tbody tr th {\n",
       "        vertical-align: top;\n",
       "    }\n",
       "\n",
       "    .dataframe thead th {\n",
       "        text-align: right;\n",
       "    }\n",
       "</style>\n",
       "<table border=\"1\" class=\"dataframe\">\n",
       "  <thead>\n",
       "    <tr style=\"text-align: right;\">\n",
       "      <th></th>\n",
       "      <th>age_at_diagnosis</th>\n",
       "      <th>diagnosis</th>\n",
       "    </tr>\n",
       "  </thead>\n",
       "  <tbody>\n",
       "    <tr>\n",
       "      <th>0</th>\n",
       "      <td>57.166324</td>\n",
       "      <td>Breast Invasive Carcinoma</td>\n",
       "    </tr>\n",
       "    <tr>\n",
       "      <th>1</th>\n",
       "      <td>62.130048</td>\n",
       "      <td>Breast Invasive Carcinoma</td>\n",
       "    </tr>\n",
       "    <tr>\n",
       "      <th>2</th>\n",
       "      <td>51.167693</td>\n",
       "      <td>Breast Invasive Carcinoma</td>\n",
       "    </tr>\n",
       "    <tr>\n",
       "      <th>3</th>\n",
       "      <td>47.296372</td>\n",
       "      <td>Normal</td>\n",
       "    </tr>\n",
       "    <tr>\n",
       "      <th>4</th>\n",
       "      <td>44.577687</td>\n",
       "      <td>Normal</td>\n",
       "    </tr>\n",
       "  </tbody>\n",
       "</table>\n",
       "</div>"
      ],
      "text/plain": [
       "   age_at_diagnosis                  diagnosis\n",
       "0         57.166324  Breast Invasive Carcinoma\n",
       "1         62.130048  Breast Invasive Carcinoma\n",
       "2         51.167693  Breast Invasive Carcinoma\n",
       "3         47.296372                     Normal\n",
       "4         44.577687                     Normal"
      ]
     },
     "execution_count": 118,
     "metadata": {},
     "output_type": "execute_result"
    }
   ],
   "source": [
    "# 8. Average age_at_diagnosis of patients without cancers\n",
    "clinical.loc[0:, ['age_at_diagnosis', 'diagnosis']]"
   ]
  },
  {
   "cell_type": "code",
   "execution_count": 119,
   "id": "281992f5-c763-4c7b-ac70-6de3b18be9ae",
   "metadata": {},
   "outputs": [
    {
     "data": {
      "text/plain": [
       "3    47.296372\n",
       "4    44.577687\n",
       "Name: age_at_diagnosis, dtype: float64"
      ]
     },
     "execution_count": 119,
     "metadata": {},
     "output_type": "execute_result"
    }
   ],
   "source": [
    "normal = 'Normal'\n",
    "average_age_norm = clinical.loc[clinical['diagnosis'] == normal, 'age_at_diagnosis']\n",
    "average_age_norm"
   ]
  },
  {
   "cell_type": "code",
   "execution_count": 120,
   "id": "573c5444-5d2c-426d-b920-cf735174a552",
   "metadata": {},
   "outputs": [
    {
     "data": {
      "text/plain": [
       "45.937029431895965"
      ]
     },
     "execution_count": 120,
     "metadata": {},
     "output_type": "execute_result"
    }
   ],
   "source": [
    "avg1 = sum(average_age_norm) / len(average_age_norm)\n",
    "avg1"
   ]
  },
  {
   "cell_type": "code",
   "execution_count": 121,
   "id": "5b47318d-1fe3-4d24-8df8-a3af7a1184f0",
   "metadata": {},
   "outputs": [
    {
     "data": {
      "text/html": [
       "<div>\n",
       "<style scoped>\n",
       "    .dataframe tbody tr th:only-of-type {\n",
       "        vertical-align: middle;\n",
       "    }\n",
       "\n",
       "    .dataframe tbody tr th {\n",
       "        vertical-align: top;\n",
       "    }\n",
       "\n",
       "    .dataframe thead th {\n",
       "        text-align: right;\n",
       "    }\n",
       "</style>\n",
       "<table border=\"1\" class=\"dataframe\">\n",
       "  <thead>\n",
       "    <tr style=\"text-align: right;\">\n",
       "      <th></th>\n",
       "      <th>patient</th>\n",
       "      <th>gene</th>\n",
       "      <th>variant_class</th>\n",
       "      <th>ref_bp</th>\n",
       "      <th>alt_bp</th>\n",
       "      <th>prot_pos</th>\n",
       "      <th>ref_aa</th>\n",
       "      <th>alt_aa</th>\n",
       "    </tr>\n",
       "  </thead>\n",
       "  <tbody>\n",
       "    <tr>\n",
       "      <th>0</th>\n",
       "      <td>P2938</td>\n",
       "      <td>CUL1</td>\n",
       "      <td>Missense</td>\n",
       "      <td>G</td>\n",
       "      <td>T</td>\n",
       "      <td>241</td>\n",
       "      <td>E</td>\n",
       "      <td>D</td>\n",
       "    </tr>\n",
       "    <tr>\n",
       "      <th>1</th>\n",
       "      <td>P2938</td>\n",
       "      <td>DNMT3A</td>\n",
       "      <td>Frame_Shift_Del</td>\n",
       "      <td>T</td>\n",
       "      <td>-</td>\n",
       "      <td>315</td>\n",
       "      <td>M</td>\n",
       "      <td>X</td>\n",
       "    </tr>\n",
       "    <tr>\n",
       "      <th>2</th>\n",
       "      <td>P2829</td>\n",
       "      <td>EIF5B</td>\n",
       "      <td>Missense</td>\n",
       "      <td>T</td>\n",
       "      <td>A</td>\n",
       "      <td>40</td>\n",
       "      <td>S</td>\n",
       "      <td>T</td>\n",
       "    </tr>\n",
       "    <tr>\n",
       "      <th>3</th>\n",
       "      <td>P2885</td>\n",
       "      <td>EIF5B</td>\n",
       "      <td>Nonsense</td>\n",
       "      <td>C</td>\n",
       "      <td>A</td>\n",
       "      <td>40</td>\n",
       "      <td>S</td>\n",
       "      <td>*</td>\n",
       "    </tr>\n",
       "    <tr>\n",
       "      <th>4</th>\n",
       "      <td>P2885</td>\n",
       "      <td>FOXP4</td>\n",
       "      <td>Frame_Shift</td>\n",
       "      <td>-</td>\n",
       "      <td>A</td>\n",
       "      <td>306</td>\n",
       "      <td>H</td>\n",
       "      <td>QX</td>\n",
       "    </tr>\n",
       "    <tr>\n",
       "      <th>5</th>\n",
       "      <td>P2938</td>\n",
       "      <td>HDGF</td>\n",
       "      <td>Silent</td>\n",
       "      <td>C</td>\n",
       "      <td>T</td>\n",
       "      <td>188</td>\n",
       "      <td>E</td>\n",
       "      <td></td>\n",
       "    </tr>\n",
       "    <tr>\n",
       "      <th>6</th>\n",
       "      <td>P2829</td>\n",
       "      <td>HSPA13</td>\n",
       "      <td>Missense</td>\n",
       "      <td>T</td>\n",
       "      <td>C</td>\n",
       "      <td>462</td>\n",
       "      <td>N</td>\n",
       "      <td>S</td>\n",
       "    </tr>\n",
       "    <tr>\n",
       "      <th>7</th>\n",
       "      <td>P2938</td>\n",
       "      <td>PIK3CB</td>\n",
       "      <td>Missense</td>\n",
       "      <td>C</td>\n",
       "      <td>T</td>\n",
       "      <td>68</td>\n",
       "      <td>M</td>\n",
       "      <td>I</td>\n",
       "    </tr>\n",
       "    <tr>\n",
       "      <th>8</th>\n",
       "      <td>P2885</td>\n",
       "      <td>RBM44</td>\n",
       "      <td>Missense</td>\n",
       "      <td>G</td>\n",
       "      <td>T</td>\n",
       "      <td>203</td>\n",
       "      <td>G</td>\n",
       "      <td>V</td>\n",
       "    </tr>\n",
       "    <tr>\n",
       "      <th>9</th>\n",
       "      <td>P2938</td>\n",
       "      <td>RBM44</td>\n",
       "      <td>Frame_Shift</td>\n",
       "      <td>-</td>\n",
       "      <td>T</td>\n",
       "      <td>204</td>\n",
       "      <td>L</td>\n",
       "      <td>LX</td>\n",
       "    </tr>\n",
       "    <tr>\n",
       "      <th>10</th>\n",
       "      <td>P2938</td>\n",
       "      <td>ROBO2</td>\n",
       "      <td>Missense</td>\n",
       "      <td>G</td>\n",
       "      <td>A</td>\n",
       "      <td>33</td>\n",
       "      <td>G</td>\n",
       "      <td>R</td>\n",
       "    </tr>\n",
       "    <tr>\n",
       "      <th>11</th>\n",
       "      <td>P2885</td>\n",
       "      <td>TP53</td>\n",
       "      <td>Missense</td>\n",
       "      <td>G</td>\n",
       "      <td>A</td>\n",
       "      <td>193</td>\n",
       "      <td>H</td>\n",
       "      <td>Y</td>\n",
       "    </tr>\n",
       "    <tr>\n",
       "      <th>12</th>\n",
       "      <td>P2829</td>\n",
       "      <td>TP53</td>\n",
       "      <td>Missense</td>\n",
       "      <td>T</td>\n",
       "      <td>C</td>\n",
       "      <td>280</td>\n",
       "      <td>R</td>\n",
       "      <td>G</td>\n",
       "    </tr>\n",
       "    <tr>\n",
       "      <th>13</th>\n",
       "      <td>P2938</td>\n",
       "      <td>TP53</td>\n",
       "      <td>Missense</td>\n",
       "      <td>T</td>\n",
       "      <td>C</td>\n",
       "      <td>179</td>\n",
       "      <td>H</td>\n",
       "      <td>R</td>\n",
       "    </tr>\n",
       "  </tbody>\n",
       "</table>\n",
       "</div>"
      ],
      "text/plain": [
       "   patient    gene    variant_class ref_bp alt_bp  prot_pos ref_aa alt_aa\n",
       "0    P2938    CUL1         Missense      G      T       241      E      D\n",
       "1    P2938  DNMT3A  Frame_Shift_Del      T      -       315      M      X\n",
       "2    P2829   EIF5B         Missense      T      A        40      S      T\n",
       "3    P2885   EIF5B         Nonsense      C      A        40      S      *\n",
       "4    P2885   FOXP4      Frame_Shift      -      A       306      H     QX\n",
       "5    P2938    HDGF           Silent      C      T       188      E       \n",
       "6    P2829  HSPA13         Missense      T      C       462      N      S\n",
       "7    P2938  PIK3CB         Missense      C      T        68      M      I\n",
       "8    P2885   RBM44         Missense      G      T       203      G      V\n",
       "9    P2938   RBM44      Frame_Shift      -      T       204      L     LX\n",
       "10   P2938   ROBO2         Missense      G      A        33      G      R\n",
       "11   P2885    TP53         Missense      G      A       193      H      Y\n",
       "12   P2829    TP53         Missense      T      C       280      R      G\n",
       "13   P2938    TP53         Missense      T      C       179      H      R"
      ]
     },
     "execution_count": 121,
     "metadata": {},
     "output_type": "execute_result"
    }
   ],
   "source": [
    "somatic = pd.DataFrame({\n",
    "\"patient\" : [\"P2938\", \"P2938\", \"P2829\", \"P2885\", \"P2885\", \"P2938\", \"P2829\", \"P2938\", \"P2885\", \n",
    "                \"P2938\", \"P2938\", \"P2885\", \"P2829\", \"P2938\"],\n",
    "\"gene\": [\"CUL1\", \"DNMT3A\", \"EIF5B\", \"EIF5B\", \"FOXP4\", \"HDGF\", \"HSPA13\", \"PIK3CB\", \"RBM44\", \n",
    "                 \"RBM44\", \"ROBO2\", \"TP53\", \"TP53\", \"TP53\"],\n",
    "\"variant_class\": [\"Missense\", \"Frame_Shift_Del\", \"Missense\", \"Nonsense\", \"Frame_Shift\", \"Silent\", \n",
    "                    \"Missense\", \"Missense\", \"Missense\", \"Frame_Shift\", \"Missense\", \"Missense\", \"Missense\", \"Missense\"],\n",
    "\"ref_bp\":[\"G\", \"T\", \"T\", \"C\", \"-\", \"C\", \"T\", \"C\", \"G\", \"-\",\"G\",\"G\",\"T\",\"T\"],\n",
    "\"alt_bp\":[\"T\", \"-\", \"A\", \"A\", \"A\", \"T\", \"C\", \"T\", \"T\",\"T\",\"A\",\"A\",\"C\", \"C\"],\n",
    "\"prot_pos\":[241, 315, 40, 40, 306, 188, 462, 68, 203, 204, 33, 193, 280, 179],\n",
    "\"ref_aa\":[\"E\", \"M\", \"S\", \"S\", \"H\", \"E\", \"N\", \"M\", \"G\", \"L\", \"G\",\"H\",\"R\",\"H\"],\n",
    "\"alt_aa\":[\"D\", \"X\", \"T\", \"*\", \"QX\", \"\", \"S\", \"I\", \"V\",\"LX\",\"R\",\"Y\",\"G\", \"R\"]\n",
    "})\n",
    "somatic"
   ]
  },
  {
   "cell_type": "code",
   "execution_count": 122,
   "id": "e3896739-509b-41d6-a49e-aa3a10be7671",
   "metadata": {},
   "outputs": [
    {
     "name": "stdout",
     "output_type": "stream",
     "text": [
      "rows = 14\n",
      "columns = 8\n"
     ]
    }
   ],
   "source": [
    "# 1. Number of rows and columns.\n",
    "print(\"rows =\", somatic.shape[0])\n",
    "print(\"columns =\", somatic.shape[1])"
   ]
  },
  {
   "cell_type": "code",
   "execution_count": 123,
   "id": "3c144f66-77a8-42f9-8c0e-da45795e3381",
   "metadata": {},
   "outputs": [
    {
     "name": "stdout",
     "output_type": "stream",
     "text": [
      "\n",
      "Number of unique patients = 3\n"
     ]
    }
   ],
   "source": [
    "# 2. Number of patients.\n",
    "print(f\"\\nNumber of unique patients = {somatic['patient'].nunique()}\")"
   ]
  },
  {
   "cell_type": "code",
   "execution_count": 124,
   "id": "0489d75b-dd9b-4d0f-a914-e2d4b32b549d",
   "metadata": {},
   "outputs": [
    {
     "data": {
      "text/plain": [
       "patient\n",
       "P2829    3\n",
       "P2885    4\n",
       "P2938    7\n",
       "dtype: int64"
      ]
     },
     "execution_count": 124,
     "metadata": {},
     "output_type": "execute_result"
    }
   ],
   "source": [
    "# Print unique patients and values/instances for each\n",
    "\n",
    "somatic.groupby('patient').size()"
   ]
  },
  {
   "cell_type": "code",
   "execution_count": 125,
   "id": "72c3c7b7-c93c-40e5-b9cc-695bf2bd71cc",
   "metadata": {},
   "outputs": [
    {
     "name": "stdout",
     "output_type": "stream",
     "text": [
      "Number of unique genes: 10\n"
     ]
    }
   ],
   "source": [
    "# 3. Number of unique genes.\n",
    "print(f\"Number of unique genes: {somatic['gene'].nunique()}\")"
   ]
  },
  {
   "cell_type": "code",
   "execution_count": 126,
   "id": "87c735de-9e47-4b5f-8eb1-a0f3dcc46302",
   "metadata": {},
   "outputs": [
    {
     "name": "stdout",
     "output_type": "stream",
     "text": [
      "gene\n",
      "CUL1      1\n",
      "DNMT3A    1\n",
      "EIF5B     2\n",
      "FOXP4     1\n",
      "HDGF      1\n",
      "HSPA13    1\n",
      "PIK3CB    1\n",
      "RBM44     2\n",
      "ROBO2     1\n",
      "TP53      3\n",
      "dtype: int64\n"
     ]
    }
   ],
   "source": [
    "# Print unique genes and number of values for each\n",
    "geneUniq = somatic.groupby('gene').size()\n",
    "print(geneUniq)"
   ]
  },
  {
   "cell_type": "code",
   "execution_count": 127,
   "id": "c22f3401-0eab-46e2-8b61-7513a086d182",
   "metadata": {},
   "outputs": [
    {
     "name": "stdout",
     "output_type": "stream",
     "text": [
      "Most mutated gene:\n",
      " gene\n",
      "TP53    3\n",
      "dtype: int64\n"
     ]
    }
   ],
   "source": [
    "# 4. Which gene is mutated the most frequently?\n",
    "# Method one: .iloc[]\n",
    "mostUniq = geneUniq.iloc[-1:]\n",
    "print(f\"Most mutated gene:\\n {mostUniq}\")"
   ]
  },
  {
   "cell_type": "code",
   "execution_count": 128,
   "id": "96780e68-14c4-40ce-9c30-ae70dd43b64f",
   "metadata": {},
   "outputs": [
    {
     "data": {
      "text/plain": [
       "0    TP53\n",
       "Name: gene, dtype: object"
      ]
     },
     "execution_count": 128,
     "metadata": {},
     "output_type": "execute_result"
    }
   ],
   "source": [
    "# Method 2: .mode()\n",
    "somatic['gene'].mode()"
   ]
  },
  {
   "cell_type": "code",
   "execution_count": 129,
   "id": "21b7348f-b5c3-4ae3-b5aa-173768c07bf1",
   "metadata": {},
   "outputs": [
    {
     "name": "stdout",
     "output_type": "stream",
     "text": [
      "Uniqe variant classes: 5\n"
     ]
    }
   ],
   "source": [
    "# 5. Number of unique variant classes.\n",
    "print(\"Uniqe variant classes:\", somatic['variant_class'].nunique())"
   ]
  },
  {
   "cell_type": "code",
   "execution_count": 130,
   "id": "96827049-e920-4437-a15f-82154b88bcb1",
   "metadata": {},
   "outputs": [
    {
     "data": {
      "text/html": [
       "<div>\n",
       "<style scoped>\n",
       "    .dataframe tbody tr th:only-of-type {\n",
       "        vertical-align: middle;\n",
       "    }\n",
       "\n",
       "    .dataframe tbody tr th {\n",
       "        vertical-align: top;\n",
       "    }\n",
       "\n",
       "    .dataframe thead th {\n",
       "        text-align: right;\n",
       "    }\n",
       "</style>\n",
       "<table border=\"1\" class=\"dataframe\">\n",
       "  <thead>\n",
       "    <tr style=\"text-align: right;\">\n",
       "      <th></th>\n",
       "      <th>patient</th>\n",
       "      <th>gene</th>\n",
       "      <th>ref_bp</th>\n",
       "      <th>alt_bp</th>\n",
       "      <th>prot_pos</th>\n",
       "      <th>ref_aa</th>\n",
       "      <th>alt_aa</th>\n",
       "    </tr>\n",
       "    <tr>\n",
       "      <th>variant_class</th>\n",
       "      <th></th>\n",
       "      <th></th>\n",
       "      <th></th>\n",
       "      <th></th>\n",
       "      <th></th>\n",
       "      <th></th>\n",
       "      <th></th>\n",
       "    </tr>\n",
       "  </thead>\n",
       "  <tbody>\n",
       "    <tr>\n",
       "      <th>Frame_Shift</th>\n",
       "      <td>2</td>\n",
       "      <td>2</td>\n",
       "      <td>2</td>\n",
       "      <td>2</td>\n",
       "      <td>2</td>\n",
       "      <td>2</td>\n",
       "      <td>2</td>\n",
       "    </tr>\n",
       "    <tr>\n",
       "      <th>Frame_Shift_Del</th>\n",
       "      <td>1</td>\n",
       "      <td>1</td>\n",
       "      <td>1</td>\n",
       "      <td>1</td>\n",
       "      <td>1</td>\n",
       "      <td>1</td>\n",
       "      <td>1</td>\n",
       "    </tr>\n",
       "    <tr>\n",
       "      <th>Missense</th>\n",
       "      <td>9</td>\n",
       "      <td>9</td>\n",
       "      <td>9</td>\n",
       "      <td>9</td>\n",
       "      <td>9</td>\n",
       "      <td>9</td>\n",
       "      <td>9</td>\n",
       "    </tr>\n",
       "    <tr>\n",
       "      <th>Nonsense</th>\n",
       "      <td>1</td>\n",
       "      <td>1</td>\n",
       "      <td>1</td>\n",
       "      <td>1</td>\n",
       "      <td>1</td>\n",
       "      <td>1</td>\n",
       "      <td>1</td>\n",
       "    </tr>\n",
       "    <tr>\n",
       "      <th>Silent</th>\n",
       "      <td>1</td>\n",
       "      <td>1</td>\n",
       "      <td>1</td>\n",
       "      <td>1</td>\n",
       "      <td>1</td>\n",
       "      <td>1</td>\n",
       "      <td>1</td>\n",
       "    </tr>\n",
       "  </tbody>\n",
       "</table>\n",
       "</div>"
      ],
      "text/plain": [
       "                 patient  gene  ref_bp  alt_bp  prot_pos  ref_aa  alt_aa\n",
       "variant_class                                                           \n",
       "Frame_Shift            2     2       2       2         2       2       2\n",
       "Frame_Shift_Del        1     1       1       1         1       1       1\n",
       "Missense               9     9       9       9         9       9       9\n",
       "Nonsense               1     1       1       1         1       1       1\n",
       "Silent                 1     1       1       1         1       1       1"
      ]
     },
     "execution_count": 130,
     "metadata": {},
     "output_type": "execute_result"
    }
   ],
   "source": [
    "# show table of unique variant classes with associated counts\n",
    "somatic.groupby('variant_class').count()"
   ]
  },
  {
   "cell_type": "code",
   "execution_count": 131,
   "id": "2bb3c95b-9e79-4d24-b127-e64369993185",
   "metadata": {},
   "outputs": [
    {
     "data": {
      "text/html": [
       "<div>\n",
       "<style scoped>\n",
       "    .dataframe tbody tr th:only-of-type {\n",
       "        vertical-align: middle;\n",
       "    }\n",
       "\n",
       "    .dataframe tbody tr th {\n",
       "        vertical-align: top;\n",
       "    }\n",
       "\n",
       "    .dataframe thead th {\n",
       "        text-align: right;\n",
       "    }\n",
       "</style>\n",
       "<table border=\"1\" class=\"dataframe\">\n",
       "  <thead>\n",
       "    <tr style=\"text-align: right;\">\n",
       "      <th></th>\n",
       "      <th>patient</th>\n",
       "    </tr>\n",
       "    <tr>\n",
       "      <th>variant_class</th>\n",
       "      <th></th>\n",
       "    </tr>\n",
       "  </thead>\n",
       "  <tbody>\n",
       "    <tr>\n",
       "      <th>Missense</th>\n",
       "      <td>9</td>\n",
       "    </tr>\n",
       "    <tr>\n",
       "      <th>Frame_Shift</th>\n",
       "      <td>2</td>\n",
       "    </tr>\n",
       "    <tr>\n",
       "      <th>Frame_Shift_Del</th>\n",
       "      <td>1</td>\n",
       "    </tr>\n",
       "    <tr>\n",
       "      <th>Nonsense</th>\n",
       "      <td>1</td>\n",
       "    </tr>\n",
       "    <tr>\n",
       "      <th>Silent</th>\n",
       "      <td>1</td>\n",
       "    </tr>\n",
       "  </tbody>\n",
       "</table>\n",
       "</div>"
      ],
      "text/plain": [
       "                 patient\n",
       "variant_class           \n",
       "Missense               9\n",
       "Frame_Shift            2\n",
       "Frame_Shift_Del        1\n",
       "Nonsense               1\n",
       "Silent                 1"
      ]
     },
     "execution_count": 131,
     "metadata": {},
     "output_type": "execute_result"
    }
   ],
   "source": [
    "# Straight from workbook, no unique contribution, still insightful\n",
    "# shows table of unique variant class, sorted by count\n",
    "varUniq = somatic[['variant_class', 'patient']].groupby('variant_class').count().sort_values('patient', ascending=False)\n",
    "varUniq"
   ]
  },
  {
   "cell_type": "code",
   "execution_count": 132,
   "id": "c0e4631c-25a4-4e83-81ed-b5b72ae6dc66",
   "metadata": {},
   "outputs": [
    {
     "name": "stdout",
     "output_type": "stream",
     "text": [
      "patient    9\n",
      "dtype: int64 \n",
      "\n",
      "patient    9\n",
      "Name: Missense, dtype: int64\n"
     ]
    }
   ],
   "source": [
    "# 6. Which variant class is the most frequently observed?\n",
    "# Method 1: .max()\n",
    "print(varUniq.max(), \"\\n\")\n",
    "\n",
    "# Find instances by .loc()\n",
    "print(varUniq.loc['Missense'])"
   ]
  },
  {
   "cell_type": "code",
   "execution_count": 133,
   "id": "cc4361b6-0082-476d-b78f-d284da89ef75",
   "metadata": {},
   "outputs": [
    {
     "data": {
      "text/plain": [
       "patient    9\n",
       "Name: Missense, dtype: int64"
      ]
     },
     "execution_count": 133,
     "metadata": {},
     "output_type": "execute_result"
    }
   ],
   "source": [
    "# Method 2: .iloc()\n",
    "varUniq.iloc[0,:]"
   ]
  },
  {
   "cell_type": "code",
   "execution_count": 134,
   "id": "b93725f1-f23d-40bf-808d-d30248d6d7d2",
   "metadata": {},
   "outputs": [
    {
     "name": "stdout",
     "output_type": "stream",
     "text": [
      "Patients who have more than three somatic mutations:\n",
      " {'P2885', 'P2938'}\n"
     ]
    }
   ],
   "source": [
    "# 7. Find patients who have more than three somatic mutations. Return the IDs as a set.\n",
    "\n",
    "# Group by 'patient' and count the number of mutations per patient\n",
    "somatic_by_patient = somatic.groupby('patient').count()\n",
    "\n",
    "# Filter patients with more than three somatic mutations\n",
    "patients_with_more_than_three_mutations = somatic_by_patient[somatic_by_patient['gene'] > 3] # terrible variable name, just awful\n",
    "\n",
    "# Use the built-in function __builtins__.list to convert the index to a list if 'list' has been overridden\n",
    "list_of_patient_ids = __builtins__.list(patients_with_more_than_three_mutations.index)\n",
    "\n",
    "# Alternatively, you can use a list comprehension as a workaround\n",
    "list_of_patient_ids = [id for id in patients_with_more_than_three_mutations.index]\n",
    "\n",
    "# Proceed to convert the list to a set to ensure uniqueness if needed\n",
    "set_of_patient_ids = set(list_of_patient_ids)\n",
    "\n",
    "print(\"Patients who have more than three somatic mutations:\\n\", set_of_patient_ids)"
   ]
  },
  {
   "cell_type": "code",
   "execution_count": 135,
   "id": "5a0bc9b4-4a1b-42cd-b18d-e4befe51ddd9",
   "metadata": {},
   "outputs": [
    {
     "name": "stdout",
     "output_type": "stream",
     "text": [
      "{'P2885', 'P2829'}\n"
     ]
    }
   ],
   "source": [
    "# 8. Find patients who have no silent mutations using a set.\n",
    "\n",
    "silent = somatic[somatic['variant_class'] == 'Silent']\n",
    "\n",
    "silent_patient = set(silent['patient']) # great novel, by the way\n",
    "\n",
    "all_patient = set(somatic['patient'])\n",
    "#print(silent_patient)\n",
    "#print(all_patient)\n",
    "print(all_patient.difference(silent_patient))"
   ]
  },
  {
   "cell_type": "code",
   "execution_count": 136,
   "id": "3f42aac7-24ce-48d9-86af-a497479398be",
   "metadata": {},
   "outputs": [
    {
     "data": {
      "text/html": [
       "<div>\n",
       "<style scoped>\n",
       "    .dataframe tbody tr th:only-of-type {\n",
       "        vertical-align: middle;\n",
       "    }\n",
       "\n",
       "    .dataframe tbody tr th {\n",
       "        vertical-align: top;\n",
       "    }\n",
       "\n",
       "    .dataframe thead th {\n",
       "        text-align: right;\n",
       "    }\n",
       "</style>\n",
       "<table border=\"1\" class=\"dataframe\">\n",
       "  <thead>\n",
       "    <tr style=\"text-align: right;\">\n",
       "      <th></th>\n",
       "      <th>patient</th>\n",
       "      <th>year_of_birth</th>\n",
       "      <th>age_at_diagnosis</th>\n",
       "      <th>race</th>\n",
       "      <th>tumor_stage</th>\n",
       "      <th>diagnosis</th>\n",
       "      <th>subtype</th>\n",
       "      <th>age</th>\n",
       "      <th>gene</th>\n",
       "      <th>variant_class</th>\n",
       "      <th>ref_bp</th>\n",
       "      <th>alt_bp</th>\n",
       "      <th>prot_pos</th>\n",
       "      <th>ref_aa</th>\n",
       "      <th>alt_aa</th>\n",
       "    </tr>\n",
       "  </thead>\n",
       "  <tbody>\n",
       "    <tr>\n",
       "      <th>0</th>\n",
       "      <td>P2938</td>\n",
       "      <td>1959</td>\n",
       "      <td>57.166324</td>\n",
       "      <td>white</td>\n",
       "      <td>stage iii</td>\n",
       "      <td>Breast Invasive Carcinoma</td>\n",
       "      <td>LumA</td>\n",
       "      <td>30</td>\n",
       "      <td>CUL1</td>\n",
       "      <td>Missense</td>\n",
       "      <td>G</td>\n",
       "      <td>T</td>\n",
       "      <td>241.0</td>\n",
       "      <td>E</td>\n",
       "      <td>D</td>\n",
       "    </tr>\n",
       "    <tr>\n",
       "      <th>0</th>\n",
       "      <td>P2938</td>\n",
       "      <td>1959</td>\n",
       "      <td>57.166324</td>\n",
       "      <td>white</td>\n",
       "      <td>stage iii</td>\n",
       "      <td>Breast Invasive Carcinoma</td>\n",
       "      <td>LumA</td>\n",
       "      <td>30</td>\n",
       "      <td>DNMT3A</td>\n",
       "      <td>Frame_Shift_Del</td>\n",
       "      <td>T</td>\n",
       "      <td>-</td>\n",
       "      <td>315.0</td>\n",
       "      <td>M</td>\n",
       "      <td>X</td>\n",
       "    </tr>\n",
       "    <tr>\n",
       "      <th>0</th>\n",
       "      <td>P2938</td>\n",
       "      <td>1959</td>\n",
       "      <td>57.166324</td>\n",
       "      <td>white</td>\n",
       "      <td>stage iii</td>\n",
       "      <td>Breast Invasive Carcinoma</td>\n",
       "      <td>LumA</td>\n",
       "      <td>30</td>\n",
       "      <td>HDGF</td>\n",
       "      <td>Silent</td>\n",
       "      <td>C</td>\n",
       "      <td>T</td>\n",
       "      <td>188.0</td>\n",
       "      <td>E</td>\n",
       "      <td></td>\n",
       "    </tr>\n",
       "    <tr>\n",
       "      <th>0</th>\n",
       "      <td>P2938</td>\n",
       "      <td>1959</td>\n",
       "      <td>57.166324</td>\n",
       "      <td>white</td>\n",
       "      <td>stage iii</td>\n",
       "      <td>Breast Invasive Carcinoma</td>\n",
       "      <td>LumA</td>\n",
       "      <td>30</td>\n",
       "      <td>PIK3CB</td>\n",
       "      <td>Missense</td>\n",
       "      <td>C</td>\n",
       "      <td>T</td>\n",
       "      <td>68.0</td>\n",
       "      <td>M</td>\n",
       "      <td>I</td>\n",
       "    </tr>\n",
       "    <tr>\n",
       "      <th>0</th>\n",
       "      <td>P2938</td>\n",
       "      <td>1959</td>\n",
       "      <td>57.166324</td>\n",
       "      <td>white</td>\n",
       "      <td>stage iii</td>\n",
       "      <td>Breast Invasive Carcinoma</td>\n",
       "      <td>LumA</td>\n",
       "      <td>30</td>\n",
       "      <td>RBM44</td>\n",
       "      <td>Frame_Shift</td>\n",
       "      <td>-</td>\n",
       "      <td>T</td>\n",
       "      <td>204.0</td>\n",
       "      <td>L</td>\n",
       "      <td>LX</td>\n",
       "    </tr>\n",
       "    <tr>\n",
       "      <th>0</th>\n",
       "      <td>P2938</td>\n",
       "      <td>1959</td>\n",
       "      <td>57.166324</td>\n",
       "      <td>white</td>\n",
       "      <td>stage iii</td>\n",
       "      <td>Breast Invasive Carcinoma</td>\n",
       "      <td>LumA</td>\n",
       "      <td>30</td>\n",
       "      <td>ROBO2</td>\n",
       "      <td>Missense</td>\n",
       "      <td>G</td>\n",
       "      <td>A</td>\n",
       "      <td>33.0</td>\n",
       "      <td>G</td>\n",
       "      <td>R</td>\n",
       "    </tr>\n",
       "    <tr>\n",
       "      <th>0</th>\n",
       "      <td>P2938</td>\n",
       "      <td>1959</td>\n",
       "      <td>57.166324</td>\n",
       "      <td>white</td>\n",
       "      <td>stage iii</td>\n",
       "      <td>Breast Invasive Carcinoma</td>\n",
       "      <td>LumA</td>\n",
       "      <td>30</td>\n",
       "      <td>TP53</td>\n",
       "      <td>Missense</td>\n",
       "      <td>T</td>\n",
       "      <td>C</td>\n",
       "      <td>179.0</td>\n",
       "      <td>H</td>\n",
       "      <td>R</td>\n",
       "    </tr>\n",
       "    <tr>\n",
       "      <th>1</th>\n",
       "      <td>P2829</td>\n",
       "      <td>1953</td>\n",
       "      <td>62.130048</td>\n",
       "      <td>white</td>\n",
       "      <td>stage iib</td>\n",
       "      <td>Breast Invasive Carcinoma</td>\n",
       "      <td>LumA</td>\n",
       "      <td>49</td>\n",
       "      <td>EIF5B</td>\n",
       "      <td>Missense</td>\n",
       "      <td>T</td>\n",
       "      <td>A</td>\n",
       "      <td>40.0</td>\n",
       "      <td>S</td>\n",
       "      <td>T</td>\n",
       "    </tr>\n",
       "    <tr>\n",
       "      <th>1</th>\n",
       "      <td>P2829</td>\n",
       "      <td>1953</td>\n",
       "      <td>62.130048</td>\n",
       "      <td>white</td>\n",
       "      <td>stage iib</td>\n",
       "      <td>Breast Invasive Carcinoma</td>\n",
       "      <td>LumA</td>\n",
       "      <td>49</td>\n",
       "      <td>HSPA13</td>\n",
       "      <td>Missense</td>\n",
       "      <td>T</td>\n",
       "      <td>C</td>\n",
       "      <td>462.0</td>\n",
       "      <td>N</td>\n",
       "      <td>S</td>\n",
       "    </tr>\n",
       "    <tr>\n",
       "      <th>1</th>\n",
       "      <td>P2829</td>\n",
       "      <td>1953</td>\n",
       "      <td>62.130048</td>\n",
       "      <td>white</td>\n",
       "      <td>stage iib</td>\n",
       "      <td>Breast Invasive Carcinoma</td>\n",
       "      <td>LumA</td>\n",
       "      <td>49</td>\n",
       "      <td>TP53</td>\n",
       "      <td>Missense</td>\n",
       "      <td>T</td>\n",
       "      <td>C</td>\n",
       "      <td>280.0</td>\n",
       "      <td>R</td>\n",
       "      <td>G</td>\n",
       "    </tr>\n",
       "    <tr>\n",
       "      <th>2</th>\n",
       "      <td>P2885</td>\n",
       "      <td>1967</td>\n",
       "      <td>51.167693</td>\n",
       "      <td>black or african american</td>\n",
       "      <td>stage i</td>\n",
       "      <td>Breast Invasive Carcinoma</td>\n",
       "      <td>Basal</td>\n",
       "      <td>78</td>\n",
       "      <td>EIF5B</td>\n",
       "      <td>Nonsense</td>\n",
       "      <td>C</td>\n",
       "      <td>A</td>\n",
       "      <td>40.0</td>\n",
       "      <td>S</td>\n",
       "      <td>*</td>\n",
       "    </tr>\n",
       "    <tr>\n",
       "      <th>2</th>\n",
       "      <td>P2885</td>\n",
       "      <td>1967</td>\n",
       "      <td>51.167693</td>\n",
       "      <td>black or african american</td>\n",
       "      <td>stage i</td>\n",
       "      <td>Breast Invasive Carcinoma</td>\n",
       "      <td>Basal</td>\n",
       "      <td>78</td>\n",
       "      <td>FOXP4</td>\n",
       "      <td>Frame_Shift</td>\n",
       "      <td>-</td>\n",
       "      <td>A</td>\n",
       "      <td>306.0</td>\n",
       "      <td>H</td>\n",
       "      <td>QX</td>\n",
       "    </tr>\n",
       "    <tr>\n",
       "      <th>2</th>\n",
       "      <td>P2885</td>\n",
       "      <td>1967</td>\n",
       "      <td>51.167693</td>\n",
       "      <td>black or african american</td>\n",
       "      <td>stage i</td>\n",
       "      <td>Breast Invasive Carcinoma</td>\n",
       "      <td>Basal</td>\n",
       "      <td>78</td>\n",
       "      <td>RBM44</td>\n",
       "      <td>Missense</td>\n",
       "      <td>G</td>\n",
       "      <td>T</td>\n",
       "      <td>203.0</td>\n",
       "      <td>G</td>\n",
       "      <td>V</td>\n",
       "    </tr>\n",
       "    <tr>\n",
       "      <th>2</th>\n",
       "      <td>P2885</td>\n",
       "      <td>1967</td>\n",
       "      <td>51.167693</td>\n",
       "      <td>black or african american</td>\n",
       "      <td>stage i</td>\n",
       "      <td>Breast Invasive Carcinoma</td>\n",
       "      <td>Basal</td>\n",
       "      <td>78</td>\n",
       "      <td>TP53</td>\n",
       "      <td>Missense</td>\n",
       "      <td>G</td>\n",
       "      <td>A</td>\n",
       "      <td>193.0</td>\n",
       "      <td>H</td>\n",
       "      <td>Y</td>\n",
       "    </tr>\n",
       "    <tr>\n",
       "      <th>3</th>\n",
       "      <td>P2731</td>\n",
       "      <td>1960</td>\n",
       "      <td>47.296372</td>\n",
       "      <td>black or african american</td>\n",
       "      <td>NaN</td>\n",
       "      <td>Normal</td>\n",
       "      <td>NaN</td>\n",
       "      <td>66</td>\n",
       "      <td>NaN</td>\n",
       "      <td>NaN</td>\n",
       "      <td>NaN</td>\n",
       "      <td>NaN</td>\n",
       "      <td>NaN</td>\n",
       "      <td>NaN</td>\n",
       "      <td>NaN</td>\n",
       "    </tr>\n",
       "    <tr>\n",
       "      <th>4</th>\n",
       "      <td>P2740</td>\n",
       "      <td>1972</td>\n",
       "      <td>44.577687</td>\n",
       "      <td>white</td>\n",
       "      <td>NaN</td>\n",
       "      <td>Normal</td>\n",
       "      <td>NaN</td>\n",
       "      <td>18</td>\n",
       "      <td>NaN</td>\n",
       "      <td>NaN</td>\n",
       "      <td>NaN</td>\n",
       "      <td>NaN</td>\n",
       "      <td>NaN</td>\n",
       "      <td>NaN</td>\n",
       "      <td>NaN</td>\n",
       "    </tr>\n",
       "  </tbody>\n",
       "</table>\n",
       "</div>"
      ],
      "text/plain": [
       "  patient  year_of_birth  age_at_diagnosis                       race  \\\n",
       "0   P2938           1959         57.166324                      white   \n",
       "0   P2938           1959         57.166324                      white   \n",
       "0   P2938           1959         57.166324                      white   \n",
       "0   P2938           1959         57.166324                      white   \n",
       "0   P2938           1959         57.166324                      white   \n",
       "0   P2938           1959         57.166324                      white   \n",
       "0   P2938           1959         57.166324                      white   \n",
       "1   P2829           1953         62.130048                      white   \n",
       "1   P2829           1953         62.130048                      white   \n",
       "1   P2829           1953         62.130048                      white   \n",
       "2   P2885           1967         51.167693  black or african american   \n",
       "2   P2885           1967         51.167693  black or african american   \n",
       "2   P2885           1967         51.167693  black or african american   \n",
       "2   P2885           1967         51.167693  black or african american   \n",
       "3   P2731           1960         47.296372  black or african american   \n",
       "4   P2740           1972         44.577687                      white   \n",
       "\n",
       "  tumor_stage                  diagnosis subtype  age    gene  \\\n",
       "0   stage iii  Breast Invasive Carcinoma    LumA   30    CUL1   \n",
       "0   stage iii  Breast Invasive Carcinoma    LumA   30  DNMT3A   \n",
       "0   stage iii  Breast Invasive Carcinoma    LumA   30    HDGF   \n",
       "0   stage iii  Breast Invasive Carcinoma    LumA   30  PIK3CB   \n",
       "0   stage iii  Breast Invasive Carcinoma    LumA   30   RBM44   \n",
       "0   stage iii  Breast Invasive Carcinoma    LumA   30   ROBO2   \n",
       "0   stage iii  Breast Invasive Carcinoma    LumA   30    TP53   \n",
       "1   stage iib  Breast Invasive Carcinoma    LumA   49   EIF5B   \n",
       "1   stage iib  Breast Invasive Carcinoma    LumA   49  HSPA13   \n",
       "1   stage iib  Breast Invasive Carcinoma    LumA   49    TP53   \n",
       "2     stage i  Breast Invasive Carcinoma   Basal   78   EIF5B   \n",
       "2     stage i  Breast Invasive Carcinoma   Basal   78   FOXP4   \n",
       "2     stage i  Breast Invasive Carcinoma   Basal   78   RBM44   \n",
       "2     stage i  Breast Invasive Carcinoma   Basal   78    TP53   \n",
       "3         NaN                     Normal     NaN   66     NaN   \n",
       "4         NaN                     Normal     NaN   18     NaN   \n",
       "\n",
       "     variant_class ref_bp alt_bp  prot_pos ref_aa alt_aa  \n",
       "0         Missense      G      T     241.0      E      D  \n",
       "0  Frame_Shift_Del      T      -     315.0      M      X  \n",
       "0           Silent      C      T     188.0      E         \n",
       "0         Missense      C      T      68.0      M      I  \n",
       "0      Frame_Shift      -      T     204.0      L     LX  \n",
       "0         Missense      G      A      33.0      G      R  \n",
       "0         Missense      T      C     179.0      H      R  \n",
       "1         Missense      T      A      40.0      S      T  \n",
       "1         Missense      T      C     462.0      N      S  \n",
       "1         Missense      T      C     280.0      R      G  \n",
       "2         Nonsense      C      A      40.0      S      *  \n",
       "2      Frame_Shift      -      A     306.0      H     QX  \n",
       "2         Missense      G      T     203.0      G      V  \n",
       "2         Missense      G      A     193.0      H      Y  \n",
       "3              NaN    NaN    NaN       NaN    NaN    NaN  \n",
       "4              NaN    NaN    NaN       NaN    NaN    NaN  "
      ]
     },
     "execution_count": 136,
     "metadata": {},
     "output_type": "execute_result"
    }
   ],
   "source": [
    "# Perform an outer join of “clinical” and “somatic” data on patient IDs.\n",
    "clinical_somatic = clinical.join(somatic.set_index('patient'), on='patient', how='outer')\n",
    "clinical_somatic"
   ]
  },
  {
   "cell_type": "code",
   "execution_count": 137,
   "id": "9e8989f9-d743-45f7-883e-8f74d73f2e6d",
   "metadata": {},
   "outputs": [
    {
     "name": "stdout",
     "output_type": "stream",
     "text": [
      "Columns:  16\n",
      "Rows:  \t 15\n"
     ]
    }
   ],
   "source": [
    "# 1. Number of rows of columns.\n",
    "print(\"Columns: \",  clinical_somatic.shape[0])\n",
    "print(\"Rows:  \\t\", clinical_somatic.shape[1])"
   ]
  },
  {
   "cell_type": "code",
   "execution_count": 138,
   "id": "addbdddc-1bb3-450a-a9bd-a51bcaab17eb",
   "metadata": {},
   "outputs": [
    {
     "data": {
      "text/html": [
       "<div>\n",
       "<style scoped>\n",
       "    .dataframe tbody tr th:only-of-type {\n",
       "        vertical-align: middle;\n",
       "    }\n",
       "\n",
       "    .dataframe tbody tr th {\n",
       "        vertical-align: top;\n",
       "    }\n",
       "\n",
       "    .dataframe thead th {\n",
       "        text-align: right;\n",
       "    }\n",
       "</style>\n",
       "<table border=\"1\" class=\"dataframe\">\n",
       "  <thead>\n",
       "    <tr style=\"text-align: right;\">\n",
       "      <th></th>\n",
       "      <th></th>\n",
       "      <th>gene</th>\n",
       "    </tr>\n",
       "    <tr>\n",
       "      <th>diagnosis</th>\n",
       "      <th>patient</th>\n",
       "      <th></th>\n",
       "    </tr>\n",
       "  </thead>\n",
       "  <tbody>\n",
       "    <tr>\n",
       "      <th rowspan=\"3\" valign=\"top\">Breast Invasive Carcinoma</th>\n",
       "      <th>P2829</th>\n",
       "      <td>3</td>\n",
       "    </tr>\n",
       "    <tr>\n",
       "      <th>P2885</th>\n",
       "      <td>4</td>\n",
       "    </tr>\n",
       "    <tr>\n",
       "      <th>P2938</th>\n",
       "      <td>7</td>\n",
       "    </tr>\n",
       "    <tr>\n",
       "      <th rowspan=\"2\" valign=\"top\">Normal</th>\n",
       "      <th>P2731</th>\n",
       "      <td>0</td>\n",
       "    </tr>\n",
       "    <tr>\n",
       "      <th>P2740</th>\n",
       "      <td>0</td>\n",
       "    </tr>\n",
       "  </tbody>\n",
       "</table>\n",
       "</div>"
      ],
      "text/plain": [
       "                                   gene\n",
       "diagnosis                 patient      \n",
       "Breast Invasive Carcinoma P2829       3\n",
       "                          P2885       4\n",
       "                          P2938       7\n",
       "Normal                    P2731       0\n",
       "                          P2740       0"
      ]
     },
     "execution_count": 138,
     "metadata": {},
     "output_type": "execute_result"
    }
   ],
   "source": [
    "mutation_by_diagnosis = clinical_somatic[['patient', 'diagnosis', 'gene']].groupby(['diagnosis', 'patient']).count()\n",
    "mutation_by_diagnosis"
   ]
  },
  {
   "cell_type": "code",
   "execution_count": 144,
   "id": "05e5d478-38b9-4016-9b3f-02302ae784be",
   "metadata": {},
   "outputs": [
    {
     "name": "stdout",
     "output_type": "stream",
     "text": [
      "Average number of somatic mutations for patients with cancers:\n",
      " gene    4.666667\n",
      "dtype: float64\n"
     ]
    }
   ],
   "source": [
    "# 2. Average number of somatic mutations for patients with cancers.\n",
    "print(\"Average number of somatic mutations for patients with cancers:\\n\", \n",
    "      mutation_by_diagnosis.loc['Breast Invasive Carcinoma'].mean())"
   ]
  },
  {
   "cell_type": "code",
   "execution_count": 145,
   "id": "7064e292-cf26-4056-b435-557dccf16acc",
   "metadata": {},
   "outputs": [
    {
     "name": "stdout",
     "output_type": "stream",
     "text": [
      "Average number of somatic mutations for patients without cancers:\n",
      " gene    0.0\n",
      "dtype: float64\n"
     ]
    }
   ],
   "source": [
    "# 3. Average number of somatic mutations for patients without cancers.\n",
    "print(\"Average number of somatic mutations for patients without cancers:\\n\", \n",
    "      mutation_by_diagnosis.loc['Normal'].mean())"
   ]
  }
 ],
 "metadata": {
  "kernelspec": {
   "display_name": "Python 3 (ipykernel)",
   "language": "python",
   "name": "python3"
  },
  "language_info": {
   "codemirror_mode": {
    "name": "ipython",
    "version": 3
   },
   "file_extension": ".py",
   "mimetype": "text/x-python",
   "name": "python",
   "nbconvert_exporter": "python",
   "pygments_lexer": "ipython3",
   "version": "3.11.7"
  }
 },
 "nbformat": 4,
 "nbformat_minor": 5
}
